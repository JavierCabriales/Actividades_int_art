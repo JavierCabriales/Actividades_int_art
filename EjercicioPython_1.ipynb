{
  "nbformat": 4,
  "nbformat_minor": 0,
  "metadata": {
    "colab": {
      "provenance": []
    },
    "kernelspec": {
      "name": "python3",
      "display_name": "Python 3"
    },
    "language_info": {
      "name": "python"
    }
  },
  "cells": [
    {
      "cell_type": "markdown",
      "source": [
        "# ***ACTIVIDAD No. 2 EJERCICIOS EN PYTHON***\n",
        "\n",
        "**NOMBRE: FRANCISCO JAVIER CABRIALES LOPEZ**<BR>\n",
        "**MATRICULA: 1838212**<BR>\n",
        "**CARRERA: IMTC**<BR>\n",
        "**GRUPO: 002**<BR>\n",
        "**HORA: 5:00pm a 7:15pm**"
      ],
      "metadata": {
        "id": "eQ24k8cySxbR"
      }
    },
    {
      "cell_type": "markdown",
      "source": [
        " ***1) Escribe un programa que solicite al usuario un número y que indique si es par o impar.***"
      ],
      "metadata": {
        "id": "O7Umemv5SEM2"
      }
    },
    {
      "cell_type": "code",
      "source": [
        "#algoritmo para determinar si un numero es par o impar\n",
        "import sys\n",
        "numero =int(input(\"ingresa un numero: \"))\n",
        "if numero %2==0:\n",
        "  print(\"El numero\",numero,\"es par\")\n",
        "else:\n",
        "  print(\"El numero\",numero,\"es impar\")\n"
      ],
      "metadata": {
        "colab": {
          "base_uri": "https://localhost:8080/"
        },
        "id": "zbFw7eK_Ogk3",
        "outputId": "566244cf-2992-48a0-93d9-db3cfdd0171f"
      },
      "execution_count": null,
      "outputs": [
        {
          "output_type": "stream",
          "name": "stdout",
          "text": [
            "ingresa un numero: 8\n",
            "El numero 8 es par\n"
          ]
        }
      ]
    },
    {
      "cell_type": "markdown",
      "source": [
        "***2) Escribe un programa que tome una lista de números ingresados por el usuario y muestre la lista en orden inverso.***"
      ],
      "metadata": {
        "id": "kM79z8csVgzu"
      }
    },
    {
      "cell_type": "code",
      "source": [
        "cadena1=[]\n",
        "for i in range(0,10):\n",
        "  n=input(\"ingrese un numeero\")\n",
        "  cadena1.append(n)\n",
        "\n",
        "cadena2=cadena1[:]\n",
        "cadena2.reverse()\n",
        "\n",
        "print(cadena1)\n",
        "print(cadena2)"
      ],
      "metadata": {
        "colab": {
          "base_uri": "https://localhost:8080/"
        },
        "id": "PLT58BjAgQaW",
        "outputId": "d1f585e6-0dd0-40c2-d39d-86256de7f25c"
      },
      "execution_count": null,
      "outputs": [
        {
          "output_type": "stream",
          "name": "stdout",
          "text": [
            "ingrese un numeero18\n",
            "ingrese un numeero23\n",
            "ingrese un numeero94\n",
            "ingrese un numeero85\n",
            "ingrese un numeero239\n",
            "ingrese un numeero583\n",
            "ingrese un numeero93\n",
            "ingrese un numeero2839\n",
            "ingrese un numeero4829\n",
            "ingrese un numeero842\n",
            "['18', '23', '94', '85', '239', '583', '93', '2839', '4829', '842']\n",
            "['842', '4829', '2839', '93', '583', '239', '85', '94', '23', '18']\n"
          ]
        }
      ]
    },
    {
      "cell_type": "markdown",
      "source": [
        "***3) Juego de adivinar el número: Crea un programa que genere un número aleatorio entre 1 y 100, y luego le pida al usuario que adivine el número. El programa debe proporcionar pistas al usuario si el número es mayor o menor que el número objetivo, y seguir solicitando un nuevo intento hasta que el usuario adivine correctamente.***"
      ],
      "metadata": {
        "id": "q6ubXFikqW-B"
      }
    },
    {
      "cell_type": "code",
      "source": [
        "import random\n",
        "guessesTaken=0\n",
        "minNumber=0\n",
        "maxNumber=20\n",
        "\n",
        "print(\"Hola, ¿Cual es tu nombre?: \")\n",
        "username= input()\n",
        "number=random.randint(minNumber, maxNumber)\n",
        "print(\"bueno, \" + username + ' ¿quieres jugar?, estoy pensando en un numero entre ' + str(minNumber) +' y '+ str(maxNumber)+'. Intenta adivinar')\n",
        "\n",
        "\n",
        "while guessesTaken < 6:\n",
        "  print(\"intenta un numero: \")\n",
        "  guess=input()\n",
        "  guess=int(guess)\n",
        "\n",
        "  guessesTaken= guessesTaken +1\n",
        "\n",
        "  if guess < number:\n",
        "    print(\"TU NUMERO ES MUY BAJO, INTENTA DE NUEVO\")\n",
        "  if guess > number:\n",
        "    print(\"TU NUMERO ES MUY ALTO, INTENTA DE NUEVO\")\n",
        "  if guess==number:\n",
        "    break\n",
        "\n",
        "if guess== number:\n",
        "  guessesTaken=str(guessesTaken)\n",
        "  print(\"FELICIDADES 🎉🎉🎊🎊🎊\" + username + ' HAZ ADIVINADO MI NUMERO EN ' + guessesTaken + ' INTENTOS')\n",
        "\n",
        "if guess != number:\n",
        "  number=str(number)\n",
        "  print(\"FALLASTE 😭😭, EL NUMERO EN EL QUE ESTABA PENSANDO ES EL \" + number + ' MAS SUERTE PARA LA PROXIMA')\n",
        "\n",
        "\n",
        "\n"
      ],
      "metadata": {
        "colab": {
          "base_uri": "https://localhost:8080/"
        },
        "id": "QePdxQvlrXRn",
        "outputId": "8e123707-dbed-4c67-efe0-e56ec7f7cdac"
      },
      "execution_count": null,
      "outputs": [
        {
          "output_type": "stream",
          "name": "stdout",
          "text": [
            "Hola, ¿Cual es tu nombre?: \n",
            "JAVIER\n",
            "bueno, JAVIER ¿quieres jugar?, estoy pensando en un numero entre 0 y 20. Intenta adivinar\n",
            "intenta un numero: \n",
            "7\n",
            "TU NUMERO ES MUY ALTO, INTENTA DE NUEVO\n",
            "intenta un numero: \n",
            "3\n",
            "TU NUMERO ES MUY ALTO, INTENTA DE NUEVO\n",
            "intenta un numero: \n",
            "1\n",
            "TU NUMERO ES MUY ALTO, INTENTA DE NUEVO\n",
            "intenta un numero: \n",
            "2\n",
            "TU NUMERO ES MUY ALTO, INTENTA DE NUEVO\n",
            "intenta un numero: \n",
            "0\n",
            "FELICIDADES 🎉🎉🎊🎊🎊JAVIER HAZ ADIVINADO MI NUMERO EN 5 INTENTOS\n"
          ]
        }
      ]
    },
    {
      "cell_type": "markdown",
      "source": [
        "***4) Ejercicio de cálculo de números primos en un rango dado:<BR>\n",
        "Escribe un programa que solicite al usuario un rango de números y muestre todos los números primos dentro de ese rango.***"
      ],
      "metadata": {
        "id": "I1HhXkWi5okm"
      }
    },
    {
      "cell_type": "code",
      "source": [
        "lower_value=int(input(\"por favor ingrese el numero menor: \"))\n",
        "upper_value=int(input(\"por favor ingrese el numero mayor: \"))\n",
        "\n",
        "print(\"los numeros primos en ese rango son: \")\n",
        "for number in range (lower_value, upper_value + 1 ):\n",
        "    if number >1:\n",
        "      for i in range(2, number):\n",
        "        if (number % i) == 0:\n",
        "         break\n",
        "\n",
        "      else:\n",
        "        print(number)\n"
      ],
      "metadata": {
        "colab": {
          "base_uri": "https://localhost:8080/"
        },
        "id": "agFfRET_7aoV",
        "outputId": "e53d57c9-78fc-49f4-83ac-49bc85873e52"
      },
      "execution_count": null,
      "outputs": [
        {
          "output_type": "stream",
          "name": "stdout",
          "text": [
            "por favor ingrese el numero menor: 2\n",
            "por favor ingrese el numero mayor: 30\n",
            "los numeros primos en ese rango son: \n",
            "2\n",
            "3\n",
            "5\n",
            "7\n",
            "11\n",
            "13\n",
            "17\n",
            "19\n",
            "23\n",
            "29\n"
          ]
        }
      ]
    },
    {
      "cell_type": "markdown",
      "source": [],
      "metadata": {
        "id": "RVeAE0a3EniE"
      }
    }
  ]
}